{
  "nbformat": 4,
  "nbformat_minor": 0,
  "metadata": {
    "colab": {
      "name": "Basics Of Python.ipynb",
      "version": "0.3.2",
      "provenance": [],
      "toc_visible": true,
      "include_colab_link": true
    },
    "kernelspec": {
      "name": "python3",
      "display_name": "Python 3"
    }
  },
  "cells": [
    {
      "cell_type": "markdown",
      "metadata": {
        "id": "view-in-github",
        "colab_type": "text"
      },
      "source": [
        "<a href=\"https://colab.research.google.com/github/KashishChanana/OneFourthLabs/blob/master/Basics_Of_Python.ipynb\" target=\"_parent\"><img src=\"https://colab.research.google.com/assets/colab-badge.svg\" alt=\"Open In Colab\"/></a>"
      ]
    },
    {
      "cell_type": "markdown",
      "metadata": {
        "id": "uvf_XjStxFhu",
        "colab_type": "text"
      },
      "source": [
        "# **Data Types and basic Operations**"
      ]
    },
    {
      "cell_type": "code",
      "metadata": {
        "id": "gl7pmMWnYoEr",
        "colab_type": "code",
        "colab": {}
      },
      "source": [
        "name='iPhone 5s'"
      ],
      "execution_count": 0,
      "outputs": []
    },
    {
      "cell_type": "code",
      "metadata": {
        "id": "0Q5tOG9AZX2Z",
        "colab_type": "code",
        "outputId": "2e7bdc66-4bdd-452f-f9c5-865fedd8a5d2",
        "colab": {
          "base_uri": "https://localhost:8080/",
          "height": 54
        }
      },
      "source": [
        "type(name)"
      ],
      "execution_count": 0,
      "outputs": [
        {
          "output_type": "execute_result",
          "data": {
            "text/plain": [
              "str"
            ]
          },
          "metadata": {
            "tags": []
          },
          "execution_count": 2
        }
      ]
    },
    {
      "cell_type": "code",
      "metadata": {
        "id": "Tv4VHgIdZZVX",
        "colab_type": "code",
        "outputId": "3df6c5a9-1de5-4432-9db0-eb95ffc60fe8",
        "colab": {
          "base_uri": "https://localhost:8080/",
          "height": 54
        }
      },
      "source": [
        "screen_size=4.3\n",
        "type(screen_size)"
      ],
      "execution_count": 0,
      "outputs": [
        {
          "output_type": "execute_result",
          "data": {
            "text/plain": [
              "float"
            ]
          },
          "metadata": {
            "tags": []
          },
          "execution_count": 3
        }
      ]
    },
    {
      "cell_type": "code",
      "metadata": {
        "id": "J0szPc0EZoTY",
        "colab_type": "code",
        "outputId": "6118b108-7c64-40b1-91ca-837bccb8227c",
        "colab": {
          "base_uri": "https://localhost:8080/",
          "height": 54
        }
      },
      "source": [
        "num_of_speakers=1\n",
        "type(num_of_speakers)"
      ],
      "execution_count": 0,
      "outputs": [
        {
          "output_type": "execute_result",
          "data": {
            "text/plain": [
              "int"
            ]
          },
          "metadata": {
            "tags": []
          },
          "execution_count": 4
        }
      ]
    },
    {
      "cell_type": "code",
      "metadata": {
        "id": "DxhxozBQZ3YC",
        "colab_type": "code",
        "outputId": "8ace0c94-df18-4be2-dd89-fec3572d1278",
        "colab": {
          "base_uri": "https://localhost:8080/",
          "height": 54
        }
      },
      "source": [
        "print(\"i got an \"+ name)"
      ],
      "execution_count": 0,
      "outputs": [
        {
          "output_type": "stream",
          "text": [
            "i got an iPhone 5s\n"
          ],
          "name": "stdout"
        }
      ]
    },
    {
      "cell_type": "code",
      "metadata": {
        "id": "DOVJF2RDZ7tl",
        "colab_type": "code",
        "outputId": "204e3fc6-9c50-43bd-d3cc-6a614e87e516",
        "colab": {
          "base_uri": "https://localhost:8080/",
          "height": 54
        }
      },
      "source": [
        "a=9\n",
        "b=10\n",
        "print( a*b, a/b, a+b, a-b, a//b)"
      ],
      "execution_count": 0,
      "outputs": [
        {
          "output_type": "stream",
          "text": [
            "90 0.9 19 -1 0\n"
          ],
          "name": "stdout"
        }
      ]
    },
    {
      "cell_type": "code",
      "metadata": {
        "id": "CCy31YObaFLm",
        "colab_type": "code",
        "outputId": "e1335103-8bef-4592-ea36-0f383fdd3329",
        "colab": {
          "base_uri": "https://localhost:8080/",
          "height": 54
        }
      },
      "source": [
        "is_android= False\n",
        "print(is_android== True)"
      ],
      "execution_count": 0,
      "outputs": [
        {
          "output_type": "stream",
          "text": [
            "False\n"
          ],
          "name": "stdout"
        }
      ]
    },
    {
      "cell_type": "code",
      "metadata": {
        "id": "xBfRfGTpanVM",
        "colab_type": "code",
        "colab": {}
      },
      "source": [
        "range?\n"
      ],
      "execution_count": 0,
      "outputs": []
    },
    {
      "cell_type": "code",
      "metadata": {
        "id": "W3dcYszibNxS",
        "colab_type": "code",
        "colab": {}
      },
      "source": [
        "def squaresum(stopval, startval=0):\n",
        "  \"\"\"Prints sum of square from start(inclusive) to stop(exclusive)\"\"\"\n",
        "  sum=0\n",
        "  for i in range(startval, stopval):\n",
        "    sum+=i**2\n",
        "  return sum\n"
      ],
      "execution_count": 0,
      "outputs": []
    },
    {
      "cell_type": "code",
      "metadata": {
        "id": "bU092vAzrejE",
        "colab_type": "code",
        "outputId": "0878fca2-6349-4392-fd73-86a14e0f018d",
        "colab": {
          "base_uri": "https://localhost:8080/",
          "height": 54
        }
      },
      "source": [
        "squaresum(4,2)"
      ],
      "execution_count": 0,
      "outputs": [
        {
          "output_type": "execute_result",
          "data": {
            "text/plain": [
              "13"
            ]
          },
          "metadata": {
            "tags": []
          },
          "execution_count": 10
        }
      ]
    },
    {
      "cell_type": "code",
      "metadata": {
        "id": "l1TpiRsHriiL",
        "colab_type": "code",
        "colab": {}
      },
      "source": [
        "squaresum?"
      ],
      "execution_count": 0,
      "outputs": []
    },
    {
      "cell_type": "code",
      "metadata": {
        "id": "VGc32SaFrxRV",
        "colab_type": "code",
        "colab": {}
      },
      "source": [
        ""
      ],
      "execution_count": 0,
      "outputs": []
    },
    {
      "cell_type": "markdown",
      "metadata": {
        "id": "HYrV_eNhsBXl",
        "colab_type": "text"
      },
      "source": [
        "# **List**"
      ]
    },
    {
      "cell_type": "code",
      "metadata": {
        "id": "0XGtIMbysFAF",
        "colab_type": "code",
        "colab": {}
      },
      "source": [
        "phone= [name, is_android, screen_size]"
      ],
      "execution_count": 0,
      "outputs": []
    },
    {
      "cell_type": "code",
      "metadata": {
        "id": "c0zg1eKNsObX",
        "colab_type": "code",
        "outputId": "d36d3d90-3c92-4978-fbe3-1c584475f73a",
        "colab": {
          "base_uri": "https://localhost:8080/",
          "height": 34
        }
      },
      "source": [
        "type(phone)"
      ],
      "execution_count": 0,
      "outputs": [
        {
          "output_type": "execute_result",
          "data": {
            "text/plain": [
              "list"
            ]
          },
          "metadata": {
            "tags": []
          },
          "execution_count": 13
        }
      ]
    },
    {
      "cell_type": "code",
      "metadata": {
        "id": "IZz9R9AXsUWP",
        "colab_type": "code",
        "outputId": "6ab11ba1-42a2-44a7-f37b-768c7a2f6a3e",
        "colab": {
          "base_uri": "https://localhost:8080/",
          "height": 34
        }
      },
      "source": [
        "print(phone)"
      ],
      "execution_count": 0,
      "outputs": [
        {
          "output_type": "stream",
          "text": [
            "['iPhone 5s', False, 4.3]\n"
          ],
          "name": "stdout"
        }
      ]
    },
    {
      "cell_type": "code",
      "metadata": {
        "id": "HAiWEMdCsXQD",
        "colab_type": "code",
        "outputId": "793f5f75-cb26-4a9d-eeb9-b4c0999e6102",
        "colab": {
          "base_uri": "https://localhost:8080/",
          "height": 34
        }
      },
      "source": [
        "phone[0:2]"
      ],
      "execution_count": 0,
      "outputs": [
        {
          "output_type": "execute_result",
          "data": {
            "text/plain": [
              "['iPhone 5s', False]"
            ]
          },
          "metadata": {
            "tags": []
          },
          "execution_count": 15
        }
      ]
    },
    {
      "cell_type": "code",
      "metadata": {
        "id": "bnb2ly5RsaC1",
        "colab_type": "code",
        "outputId": "37831765-48cc-4792-c4db-823a40b9ee4a",
        "colab": {
          "base_uri": "https://localhost:8080/",
          "height": 34
        }
      },
      "source": [
        "new_phone=phone\n",
        "print(new_phone)"
      ],
      "execution_count": 0,
      "outputs": [
        {
          "output_type": "stream",
          "text": [
            "['iPhone 5s', False, 4.3]\n"
          ],
          "name": "stdout"
        }
      ]
    },
    {
      "cell_type": "code",
      "metadata": {
        "id": "TcwckuY9s3ej",
        "colab_type": "code",
        "outputId": "9f80a64b-dadb-485e-8b98-da0e054d6550",
        "colab": {
          "base_uri": "https://localhost:8080/",
          "height": 51
        }
      },
      "source": [
        "phone[2]=5\n",
        "print(phone)\n",
        "print(new_phone)\n",
        "\n",
        "## reference variable is created"
      ],
      "execution_count": 0,
      "outputs": [
        {
          "output_type": "stream",
          "text": [
            "['iPhone 5s', False, 5]\n",
            "['iPhone 5s', False, 5]\n"
          ],
          "name": "stdout"
        }
      ]
    },
    {
      "cell_type": "code",
      "metadata": {
        "id": "gijduviZs6cl",
        "colab_type": "code",
        "outputId": "194cab02-535f-4ba4-8e67-8ac2824c5ebb",
        "colab": {
          "base_uri": "https://localhost:8080/",
          "height": 51
        }
      },
      "source": [
        "#To prevent that use-> DEEP COPY\n",
        "new_phone= list(phone)\n",
        "phone[2]=4\n",
        "print(phone)\n",
        "print(new_phone)"
      ],
      "execution_count": 0,
      "outputs": [
        {
          "output_type": "stream",
          "text": [
            "['iPhone 5s', False, 4]\n",
            "['iPhone 5s', False, 5]\n"
          ],
          "name": "stdout"
        }
      ]
    },
    {
      "cell_type": "code",
      "metadata": {
        "id": "h20horSltOll",
        "colab_type": "code",
        "outputId": "bd3bd01e-309f-45bd-b742-8ec864e9ae54",
        "colab": {
          "base_uri": "https://localhost:8080/",
          "height": 34
        }
      },
      "source": [
        "len(phone)"
      ],
      "execution_count": 0,
      "outputs": [
        {
          "output_type": "execute_result",
          "data": {
            "text/plain": [
              "3"
            ]
          },
          "metadata": {
            "tags": []
          },
          "execution_count": 19
        }
      ]
    },
    {
      "cell_type": "code",
      "metadata": {
        "id": "esGMUQnYtcGG",
        "colab_type": "code",
        "outputId": "d95d9c50-c364-4b21-a707-e293602f7e17",
        "colab": {
          "base_uri": "https://localhost:8080/",
          "height": 34
        }
      },
      "source": [
        "phone.append('4G')\n",
        "print(phone)"
      ],
      "execution_count": 0,
      "outputs": [
        {
          "output_type": "stream",
          "text": [
            "['iPhone 5s', False, 4, '4G']\n"
          ],
          "name": "stdout"
        }
      ]
    },
    {
      "cell_type": "code",
      "metadata": {
        "id": "w6Th8zRctmKF",
        "colab_type": "code",
        "colab": {}
      },
      "source": [
        "new_specs=['single sim', '50000']\n",
        "phone= phone+new_specs"
      ],
      "execution_count": 0,
      "outputs": []
    },
    {
      "cell_type": "code",
      "metadata": {
        "id": "MY30jNv1uC46",
        "colab_type": "code",
        "outputId": "1636c9d8-2762-415c-b02e-27f5d16f172d",
        "colab": {
          "base_uri": "https://localhost:8080/",
          "height": 34
        }
      },
      "source": [
        "print(phone)"
      ],
      "execution_count": 0,
      "outputs": [
        {
          "output_type": "stream",
          "text": [
            "['iPhone 5s', False, 4, '4G', 'single sim', '50000']\n"
          ],
          "name": "stdout"
        }
      ]
    },
    {
      "cell_type": "code",
      "metadata": {
        "id": "V2rh-pT4uImd",
        "colab_type": "code",
        "outputId": "ac053695-df8c-41ea-d1fd-85fb41d3b920",
        "colab": {
          "base_uri": "https://localhost:8080/",
          "height": 34
        }
      },
      "source": [
        "a=list(range(5))\n",
        "print(a)"
      ],
      "execution_count": 0,
      "outputs": [
        {
          "output_type": "stream",
          "text": [
            "[0, 1, 2, 3, 4]\n"
          ],
          "name": "stdout"
        }
      ]
    },
    {
      "cell_type": "code",
      "metadata": {
        "id": "zQz54rt3uTCe",
        "colab_type": "code",
        "colab": {}
      },
      "source": [
        "b= list(map(lambda x: x**2, a))"
      ],
      "execution_count": 0,
      "outputs": []
    },
    {
      "cell_type": "code",
      "metadata": {
        "id": "f8ZsPOEQumAN",
        "colab_type": "code",
        "outputId": "4c6a33fa-f382-4a27-e5ea-72bec50bd0a2",
        "colab": {
          "base_uri": "https://localhost:8080/",
          "height": 34
        }
      },
      "source": [
        "print(b)"
      ],
      "execution_count": 0,
      "outputs": [
        {
          "output_type": "stream",
          "text": [
            "[0, 1, 4, 9, 16]\n"
          ],
          "name": "stdout"
        }
      ]
    },
    {
      "cell_type": "code",
      "metadata": {
        "id": "VTfz_L5Qum1e",
        "colab_type": "code",
        "outputId": "ce1449b5-5d04-486b-9352-9aee27d8c506",
        "colab": {
          "base_uri": "https://localhost:8080/",
          "height": 34
        }
      },
      "source": [
        "c=list(filter(lambda x:x%2==0,b ))\n",
        "print(c)"
      ],
      "execution_count": 0,
      "outputs": [
        {
          "output_type": "stream",
          "text": [
            "[0, 4, 16]\n"
          ],
          "name": "stdout"
        }
      ]
    },
    {
      "cell_type": "markdown",
      "metadata": {
        "id": "n924H7BZxAaP",
        "colab_type": "text"
      },
      "source": [
        "# **Tuple**"
      ]
    },
    {
      "cell_type": "code",
      "metadata": {
        "id": "u1jGxfZdu0es",
        "colab_type": "code",
        "colab": {}
      },
      "source": [
        "phone_tuple=('iPhone', 'False', '4.3')"
      ],
      "execution_count": 0,
      "outputs": []
    },
    {
      "cell_type": "code",
      "metadata": {
        "id": "SHGpDdNNvSBX",
        "colab_type": "code",
        "outputId": "7e41e390-00a7-48f8-c95a-82395db39256",
        "colab": {
          "base_uri": "https://localhost:8080/",
          "height": 54
        }
      },
      "source": [
        "phone_tuple[0:3]"
      ],
      "execution_count": 0,
      "outputs": [
        {
          "output_type": "execute_result",
          "data": {
            "text/plain": [
              "('iPhone', 'False', '4.3')"
            ]
          },
          "metadata": {
            "tags": []
          },
          "execution_count": 28
        }
      ]
    },
    {
      "cell_type": "code",
      "metadata": {
        "id": "QSHzsTd_vWgP",
        "colab_type": "code",
        "outputId": "167ee9c1-0b0d-4516-9d3f-89d5fef5ed97",
        "colab": {
          "base_uri": "https://localhost:8080/",
          "height": 54
        }
      },
      "source": [
        "type(phone_tuple)"
      ],
      "execution_count": 0,
      "outputs": [
        {
          "output_type": "execute_result",
          "data": {
            "text/plain": [
              "tuple"
            ]
          },
          "metadata": {
            "tags": []
          },
          "execution_count": 29
        }
      ]
    },
    {
      "cell_type": "code",
      "metadata": {
        "id": "ivnKqlwnvZ2B",
        "colab_type": "code",
        "colab": {}
      },
      "source": [
        "##phone_tuple[2]=True\n",
        "#TUPLE OBJECTS ARE IMMUTABLE"
      ],
      "execution_count": 0,
      "outputs": []
    },
    {
      "cell_type": "code",
      "metadata": {
        "id": "iKtNbA-fwDd-",
        "colab_type": "code",
        "colab": {}
      },
      "source": [
        "import time"
      ],
      "execution_count": 0,
      "outputs": []
    },
    {
      "cell_type": "code",
      "metadata": {
        "id": "LsAp2WCHxO71",
        "colab_type": "code",
        "outputId": "e1ecf9c5-67a3-458a-f948-42804b17ea86",
        "colab": {
          "base_uri": "https://localhost:8080/",
          "height": 54
        }
      },
      "source": [
        "tic=time.time()\n",
        "mytuple= tuple(range(10000))\n",
        "mytuple_squared=tuple(map(lambda x: x**2, mytuple))\n",
        "toc= time.time()\n",
        "print('time elapsed '+ str(toc- tic) +\" seconds\")"
      ],
      "execution_count": 0,
      "outputs": [
        {
          "output_type": "stream",
          "text": [
            "time elapsed 0.007914543151855469 seconds\n"
          ],
          "name": "stdout"
        }
      ]
    },
    {
      "cell_type": "code",
      "metadata": {
        "id": "faRazrL1xqT2",
        "colab_type": "code",
        "outputId": "ddaef5ca-d867-4f80-cfc1-37ea086e65cb",
        "colab": {
          "base_uri": "https://localhost:8080/",
          "height": 54
        }
      },
      "source": [
        "tic=time.time()\n",
        "mylist= tuple(range(10000))\n",
        "mylist_squared=tuple(map(lambda x: x**2, mylist))\n",
        "toc= time.time()\n",
        "print('time elapsed '+ str(toc- tic) +\" seconds\")"
      ],
      "execution_count": 0,
      "outputs": [
        {
          "output_type": "stream",
          "text": [
            "time elapsed 0.006674289703369141 seconds\n"
          ],
          "name": "stdout"
        }
      ]
    },
    {
      "cell_type": "markdown",
      "metadata": {
        "id": "zXOA_5tFyBQf",
        "colab_type": "text"
      },
      "source": [
        "# **Set**"
      ]
    },
    {
      "cell_type": "code",
      "metadata": {
        "id": "y03QNkw8x50h",
        "colab_type": "code",
        "outputId": "203685cf-37b9-478c-8d16-9e57e3129054",
        "colab": {
          "base_uri": "https://localhost:8080/",
          "height": 54
        }
      },
      "source": [
        "myset= set(phone)\n",
        "print(myset)"
      ],
      "execution_count": 0,
      "outputs": [
        {
          "output_type": "stream",
          "text": [
            "{False, 'iPhone 5s', 4, '50000', '4G', 'single sim'}\n"
          ],
          "name": "stdout"
        }
      ]
    },
    {
      "cell_type": "code",
      "metadata": {
        "id": "EWylzTHp0aIC",
        "colab_type": "code",
        "colab": {}
      },
      "source": [
        "#myset.append(4.3)\n",
        "#cant append to a set"
      ],
      "execution_count": 0,
      "outputs": []
    },
    {
      "cell_type": "code",
      "metadata": {
        "id": "-oZIKbgG0hjq",
        "colab_type": "code",
        "outputId": "6580d4c1-af2d-4c88-ccf1-b63adcb56347",
        "colab": {
          "base_uri": "https://localhost:8080/",
          "height": 88
        }
      },
      "source": [
        "mylist= list(range(10000))\n",
        "tic= time.time()\n",
        "print( 100 in mylist)\n",
        "print( 1000000 in mylist)\n",
        "toc= time.time()\n",
        "\n",
        "print(\"elapsed time \" + str(toc-tic)+ \" seconds\")"
      ],
      "execution_count": 0,
      "outputs": [
        {
          "output_type": "stream",
          "text": [
            "True\n",
            "False\n",
            "elapsed time 0.0012667179107666016 seconds\n"
          ],
          "name": "stdout"
        }
      ]
    },
    {
      "cell_type": "code",
      "metadata": {
        "id": "yrduN5hu1Xdi",
        "colab_type": "code",
        "outputId": "2bdac3cf-de25-438d-95ad-defe0958fd1e",
        "colab": {
          "base_uri": "https://localhost:8080/",
          "height": 88
        }
      },
      "source": [
        "myset= set(range(10000))\n",
        "tic= time.time()\n",
        "print( 100 in myset)\n",
        "print( 1000000 in myset)\n",
        "toc= time.time()\n",
        "\n",
        "print(\"elapsed time \" + str(toc-tic)+ \" seconds\")\n",
        "\n",
        "\n",
        "#set membership can be checked really quickly"
      ],
      "execution_count": 0,
      "outputs": [
        {
          "output_type": "stream",
          "text": [
            "True\n",
            "False\n",
            "elapsed time 0.002505064010620117 seconds\n"
          ],
          "name": "stdout"
        }
      ]
    },
    {
      "cell_type": "markdown",
      "metadata": {
        "id": "0pEU16xl2Gdm",
        "colab_type": "text"
      },
      "source": [
        "# **Dictionary**"
      ]
    },
    {
      "cell_type": "code",
      "metadata": {
        "id": "DoJdlYjj13Wc",
        "colab_type": "code",
        "outputId": "203b6a47-9c03-4926-8702-77e1e6b3bab2",
        "colab": {
          "base_uri": "https://localhost:8080/",
          "height": 54
        }
      },
      "source": [
        "phone_dict={}\n",
        "type(phone_dict)"
      ],
      "execution_count": 0,
      "outputs": [
        {
          "output_type": "execute_result",
          "data": {
            "text/plain": [
              "dict"
            ]
          },
          "metadata": {
            "tags": []
          },
          "execution_count": 38
        }
      ]
    },
    {
      "cell_type": "code",
      "metadata": {
        "id": "G93Atz3M2WAp",
        "colab_type": "code",
        "colab": {}
      },
      "source": [
        "# lists are identified by say numbers but for dictionary you can use identifiers\n",
        "phone_dict[\"name\"]=\"iPhone 5s\"\n",
        "phone_dict[\"isAndroid\"]=False\n",
        "phone_dict[\"screen_size\"]=4.3"
      ],
      "execution_count": 0,
      "outputs": []
    },
    {
      "cell_type": "code",
      "metadata": {
        "id": "36hqrqVY2jbD",
        "colab_type": "code",
        "outputId": "e3607a74-256f-450b-d158-5ec4af6334ed",
        "colab": {
          "base_uri": "https://localhost:8080/",
          "height": 54
        }
      },
      "source": [
        "print(phone_dict)"
      ],
      "execution_count": 0,
      "outputs": [
        {
          "output_type": "stream",
          "text": [
            "{'name': 'iPhone 5s', 'isAndroid': False, 'screen_size': 4.3}\n"
          ],
          "name": "stdout"
        }
      ]
    },
    {
      "cell_type": "code",
      "metadata": {
        "id": "Bv7aqgGF2lc2",
        "colab_type": "code",
        "outputId": "a1ea9145-4249-42ec-a28b-edda54ffd482",
        "colab": {
          "base_uri": "https://localhost:8080/",
          "height": 54
        }
      },
      "source": [
        "print( phone_dict[\"name\"])"
      ],
      "execution_count": 0,
      "outputs": [
        {
          "output_type": "stream",
          "text": [
            "iPhone 5s\n"
          ],
          "name": "stdout"
        }
      ]
    },
    {
      "cell_type": "code",
      "metadata": {
        "id": "acaCkzhN21JU",
        "colab_type": "code",
        "outputId": "6fb996aa-dff9-4754-d92d-a901ccc1edd8",
        "colab": {
          "base_uri": "https://localhost:8080/",
          "height": 54
        }
      },
      "source": [
        "print(phone_dict.values())"
      ],
      "execution_count": 0,
      "outputs": [
        {
          "output_type": "stream",
          "text": [
            "dict_values(['iPhone 5s', False, 4.3])\n"
          ],
          "name": "stdout"
        }
      ]
    },
    {
      "cell_type": "code",
      "metadata": {
        "id": "w2fds8Yr25ea",
        "colab_type": "code",
        "outputId": "876778b9-c9cb-4f5c-9a71-e2790f456d77",
        "colab": {
          "base_uri": "https://localhost:8080/",
          "height": 88
        }
      },
      "source": [
        "for key in phone_dict:\n",
        "  print(key, phone_dict[key])"
      ],
      "execution_count": 0,
      "outputs": [
        {
          "output_type": "stream",
          "text": [
            "name iPhone 5s\n",
            "isAndroid False\n",
            "screen_size 4.3\n"
          ],
          "name": "stdout"
        }
      ]
    },
    {
      "cell_type": "markdown",
      "metadata": {
        "id": "viGIb5oP3VBH",
        "colab_type": "text"
      },
      "source": [
        "# **Python Packages**"
      ]
    },
    {
      "cell_type": "code",
      "metadata": {
        "id": "Tz8VYuKJ3J4_",
        "colab_type": "code",
        "colab": {}
      },
      "source": [
        "import math"
      ],
      "execution_count": 0,
      "outputs": []
    },
    {
      "cell_type": "code",
      "metadata": {
        "id": "DOe03wZK3feL",
        "colab_type": "code",
        "outputId": "79928f5d-4dda-4778-b294-284b423a807e",
        "colab": {
          "base_uri": "https://localhost:8080/",
          "height": 71
        }
      },
      "source": [
        "a=math.sqrt(16)\n",
        "b=math.pow(4, 2)\n",
        "\n",
        "print(a)\n",
        "print(b)"
      ],
      "execution_count": 0,
      "outputs": [
        {
          "output_type": "stream",
          "text": [
            "4.0\n",
            "16.0\n"
          ],
          "name": "stdout"
        }
      ]
    },
    {
      "cell_type": "code",
      "metadata": {
        "id": "QorMW7n33jA7",
        "colab_type": "code",
        "outputId": "6548aa9c-5adc-40f7-9b7d-e31e6105559d",
        "colab": {
          "base_uri": "https://localhost:8080/",
          "height": 54
        }
      },
      "source": [
        "y= math.factorial(5)\n",
        "print(y)"
      ],
      "execution_count": 0,
      "outputs": [
        {
          "output_type": "stream",
          "text": [
            "120\n"
          ],
          "name": "stdout"
        }
      ]
    },
    {
      "cell_type": "code",
      "metadata": {
        "id": "pjti4edN4cgS",
        "colab_type": "code",
        "outputId": "d7b91e28-a287-4e45-9cd1-9c9c1d05e705",
        "colab": {
          "base_uri": "https://localhost:8080/",
          "height": 54
        }
      },
      "source": [
        "from math import factorial\n",
        "z= factorial(5)\n",
        "print(z)"
      ],
      "execution_count": 0,
      "outputs": [
        {
          "output_type": "stream",
          "text": [
            "120\n"
          ],
          "name": "stdout"
        }
      ]
    },
    {
      "cell_type": "markdown",
      "metadata": {
        "id": "KLwaD4qn_1Rc",
        "colab_type": "text"
      },
      "source": [
        "# **File Handling**"
      ]
    },
    {
      "cell_type": "code",
      "metadata": {
        "id": "5_26o7bq4jD4",
        "colab_type": "code",
        "outputId": "ab5c1d62-b035-41e9-bd29-aa5b4c423d05",
        "colab": {
          "base_uri": "https://localhost:8080/",
          "height": 197
        }
      },
      "source": [
        "with open('iris.csv', 'r') as file:\n",
        "  print( file.readline())\n",
        "  #No need to close file. as soon as you leave this block file gets automatically closed"
      ],
      "execution_count": 0,
      "outputs": [
        {
          "output_type": "error",
          "ename": "FileNotFoundError",
          "evalue": "ignored",
          "traceback": [
            "\u001b[0;31m---------------------------------------------------------------------------\u001b[0m",
            "\u001b[0;31mFileNotFoundError\u001b[0m                         Traceback (most recent call last)",
            "\u001b[0;32m<ipython-input-48-8982dc93991e>\u001b[0m in \u001b[0;36m<module>\u001b[0;34m()\u001b[0m\n\u001b[0;32m----> 1\u001b[0;31m \u001b[0;32mwith\u001b[0m \u001b[0mopen\u001b[0m\u001b[0;34m(\u001b[0m\u001b[0;34m'iris.csv'\u001b[0m\u001b[0;34m,\u001b[0m \u001b[0;34m'r'\u001b[0m\u001b[0;34m)\u001b[0m \u001b[0;32mas\u001b[0m \u001b[0mfile\u001b[0m\u001b[0;34m:\u001b[0m\u001b[0;34m\u001b[0m\u001b[0;34m\u001b[0m\u001b[0m\n\u001b[0m\u001b[1;32m      2\u001b[0m   \u001b[0mprint\u001b[0m\u001b[0;34m(\u001b[0m \u001b[0mfile\u001b[0m\u001b[0;34m.\u001b[0m\u001b[0mreadline\u001b[0m\u001b[0;34m(\u001b[0m\u001b[0;34m)\u001b[0m\u001b[0;34m)\u001b[0m\u001b[0;34m\u001b[0m\u001b[0;34m\u001b[0m\u001b[0m\n\u001b[1;32m      3\u001b[0m   \u001b[0;31m#No need to close file. as soon as you leave this block file gets automatically closed\u001b[0m\u001b[0;34m\u001b[0m\u001b[0;34m\u001b[0m\u001b[0;34m\u001b[0m\u001b[0m\n",
            "\u001b[0;31mFileNotFoundError\u001b[0m: [Errno 2] No such file or directory: 'iris.csv'"
          ]
        }
      ]
    },
    {
      "cell_type": "code",
      "metadata": {
        "id": "WXHu_jd7_lU0",
        "colab_type": "code",
        "colab": {}
      },
      "source": [
        "file= open('iris.csv', 'r')\n",
        "a=file.readline()\n",
        "print(a)\n",
        "print(a.split(','))\n",
        "file.close()"
      ],
      "execution_count": 0,
      "outputs": []
    },
    {
      "cell_type": "code",
      "metadata": {
        "id": "KRmCHpl3_-wt",
        "colab_type": "code",
        "colab": {}
      },
      "source": [
        "with open('iris.csv', 'r') as file:\n",
        "  for fil in file:\n",
        "    print(fil)\n",
        "    "
      ],
      "execution_count": 0,
      "outputs": []
    },
    {
      "cell_type": "code",
      "metadata": {
        "id": "0-MxapZIAqc0",
        "colab_type": "code",
        "colab": {}
      },
      "source": [
        "with open(\"outputfile.txt\", 'w') as file:\n",
        "  file.write(\"HELLO World\")"
      ],
      "execution_count": 0,
      "outputs": []
    },
    {
      "cell_type": "code",
      "metadata": {
        "id": "MFfFs_lrBDSs",
        "colab_type": "code",
        "colab": {}
      },
      "source": [
        "!cat outputfile.txt"
      ],
      "execution_count": 0,
      "outputs": []
    },
    {
      "cell_type": "markdown",
      "metadata": {
        "id": "a-tOLgO9BcH_",
        "colab_type": "text"
      },
      "source": [
        "# **Python Classes**"
      ]
    },
    {
      "cell_type": "code",
      "metadata": {
        "id": "L2Rlu3UgBIEc",
        "colab_type": "code",
        "colab": {}
      },
      "source": [
        "class mobilePhone:\n",
        "  \"\"\"sample class\"\"\"\n",
        "  def __init__(self, name, isAndroid=False, screen_size=4.3):\n",
        "    self.name=name\n",
        "    self.isAndroid= isAndroid\n",
        "    self.screen_size=screen_size\n",
        "    self.rating=-1\n",
        "    \n",
        "  def hasrating(self):\n",
        "    return self.rating>-1"
      ],
      "execution_count": 0,
      "outputs": []
    },
    {
      "cell_type": "code",
      "metadata": {
        "id": "re-tGufpCJVK",
        "colab_type": "code",
        "colab": {}
      },
      "source": [
        "new_phone= mobilePhone('iPhone 5s')"
      ],
      "execution_count": 0,
      "outputs": []
    },
    {
      "cell_type": "code",
      "metadata": {
        "id": "rbiFYb4QCRO2",
        "colab_type": "code",
        "colab": {}
      },
      "source": [
        "type(new_phone)"
      ],
      "execution_count": 0,
      "outputs": []
    },
    {
      "cell_type": "code",
      "metadata": {
        "id": "qH7lo5HDDSuq",
        "colab_type": "code",
        "colab": {}
      },
      "source": [
        "print(new_phone.name)"
      ],
      "execution_count": 0,
      "outputs": []
    },
    {
      "cell_type": "code",
      "metadata": {
        "id": "pTNBJA96DaSL",
        "colab_type": "code",
        "colab": {}
      },
      "source": [
        "new_phone.hasrating()"
      ],
      "execution_count": 0,
      "outputs": []
    },
    {
      "cell_type": "code",
      "metadata": {
        "id": "tD1kpekND_dc",
        "colab_type": "code",
        "colab": {}
      },
      "source": [
        "new_phone.rating=4\n",
        "new_phone.hasrating()"
      ],
      "execution_count": 0,
      "outputs": []
    },
    {
      "cell_type": "code",
      "metadata": {
        "id": "oClQEjkVESuP",
        "colab_type": "code",
        "colab": {}
      },
      "source": [
        "mobilePhone?"
      ],
      "execution_count": 0,
      "outputs": []
    },
    {
      "cell_type": "code",
      "metadata": {
        "id": "bdW03JuaEm6l",
        "colab_type": "code",
        "colab": {}
      },
      "source": [
        "class iPhone(mobilePhone):\n",
        "  def __init__(self, name):\n",
        "    mobilePhone.__init__(self,name,False, 4)\n",
        "  \n",
        "  def __str__(self):\n",
        "    return self.name+ \" \"+ str(self.isAndroid)+ \" \"+ str(self.screen_size)"
      ],
      "execution_count": 0,
      "outputs": []
    },
    {
      "cell_type": "code",
      "metadata": {
        "id": "AK8bKQY7Gb0E",
        "colab_type": "code",
        "colab": {}
      },
      "source": [
        "new_iPhone= iPhone('iPhone 5s')"
      ],
      "execution_count": 0,
      "outputs": []
    },
    {
      "cell_type": "code",
      "metadata": {
        "id": "e7CPTAM3Gk5o",
        "colab_type": "code",
        "colab": {}
      },
      "source": [
        "print(new_iPhone)"
      ],
      "execution_count": 0,
      "outputs": []
    },
    {
      "cell_type": "markdown",
      "metadata": {
        "id": "wGNoPlWDhjgd",
        "colab_type": "text"
      },
      "source": [
        "# **Numpy**"
      ]
    },
    {
      "cell_type": "code",
      "metadata": {
        "id": "-ZjOaSoQhW0g",
        "colab_type": "code",
        "colab": {}
      },
      "source": [
        "import numpy as np"
      ],
      "execution_count": 0,
      "outputs": []
    },
    {
      "cell_type": "code",
      "metadata": {
        "id": "LJ7_PB5NhnmW",
        "colab_type": "code",
        "colab": {}
      },
      "source": [
        "X= np.array([1,2,3,4])"
      ],
      "execution_count": 0,
      "outputs": []
    },
    {
      "cell_type": "code",
      "metadata": {
        "id": "S9mQDWv6htNH",
        "colab_type": "code",
        "colab": {}
      },
      "source": [
        "type(X)"
      ],
      "execution_count": 0,
      "outputs": []
    },
    {
      "cell_type": "code",
      "metadata": {
        "id": "b-dwuC0ghvyS",
        "colab_type": "code",
        "colab": {}
      },
      "source": [
        "print(X)"
      ],
      "execution_count": 0,
      "outputs": []
    },
    {
      "cell_type": "code",
      "metadata": {
        "id": "JPnHlL6ih0Lb",
        "colab_type": "code",
        "colab": {}
      },
      "source": [
        "a=[10, 6 , 7 , 8]\n",
        "Y= np.asarray(a)\n",
        "print(Y)"
      ],
      "execution_count": 0,
      "outputs": []
    },
    {
      "cell_type": "code",
      "metadata": {
        "id": "rUchjcKvh8U3",
        "colab_type": "code",
        "colab": {}
      },
      "source": [
        "Z= np.asarray(a, float)\n",
        "print(Z)"
      ],
      "execution_count": 0,
      "outputs": []
    },
    {
      "cell_type": "code",
      "metadata": {
        "id": "WOSjusM5iBG1",
        "colab_type": "code",
        "colab": {}
      },
      "source": [
        "X.shape"
      ],
      "execution_count": 0,
      "outputs": []
    },
    {
      "cell_type": "code",
      "metadata": {
        "id": "uI_BO9zDiEci",
        "colab_type": "code",
        "colab": {}
      },
      "source": [
        "np.array?"
      ],
      "execution_count": 0,
      "outputs": []
    },
    {
      "cell_type": "code",
      "metadata": {
        "id": "iupqgqxliJbe",
        "colab_type": "code",
        "colab": {}
      },
      "source": [
        "X= np.array([[1,2,3,4], [5,6,7,8]])\n",
        "print(X)\n",
        "X.shape"
      ],
      "execution_count": 0,
      "outputs": []
    },
    {
      "cell_type": "code",
      "metadata": {
        "id": "eraxawA3iXm_",
        "colab_type": "code",
        "colab": {}
      },
      "source": [
        "X[0:2, :3]"
      ],
      "execution_count": 0,
      "outputs": []
    },
    {
      "cell_type": "code",
      "metadata": {
        "id": "yMRViWyAixco",
        "colab_type": "code",
        "colab": {}
      },
      "source": [
        "X[0, :]"
      ],
      "execution_count": 0,
      "outputs": []
    },
    {
      "cell_type": "code",
      "metadata": {
        "id": "RHLC6prci9d6",
        "colab_type": "code",
        "colab": {}
      },
      "source": [
        "X=np.zeros((4,5))\n",
        "print(X)"
      ],
      "execution_count": 0,
      "outputs": []
    },
    {
      "cell_type": "code",
      "metadata": {
        "id": "4TUyKefgjCwY",
        "colab_type": "code",
        "colab": {}
      },
      "source": [
        "X= np.eye(4,4)\n",
        "print(X)"
      ],
      "execution_count": 0,
      "outputs": []
    },
    {
      "cell_type": "code",
      "metadata": {
        "id": "KxC6l7P7jJor",
        "colab_type": "code",
        "colab": {}
      },
      "source": [
        "X= np.random.random((4,5))\n",
        "print(X)"
      ],
      "execution_count": 0,
      "outputs": []
    },
    {
      "cell_type": "code",
      "metadata": {
        "id": "7NRLdoLpjQQ9",
        "colab_type": "code",
        "colab": {}
      },
      "source": [
        "print(X.T)"
      ],
      "execution_count": 0,
      "outputs": []
    },
    {
      "cell_type": "code",
      "metadata": {
        "id": "lMZNG5v1jUlN",
        "colab_type": "code",
        "colab": {}
      },
      "source": [
        "Y= X.reshape(20,1)\n",
        "print(Y)"
      ],
      "execution_count": 0,
      "outputs": []
    },
    {
      "cell_type": "code",
      "metadata": {
        "id": "Hp-3GTENjY7p",
        "colab_type": "code",
        "colab": {}
      },
      "source": [
        "A= np.arange(5)\n",
        "B=np.arange(5)\n",
        "print(A)"
      ],
      "execution_count": 0,
      "outputs": []
    },
    {
      "cell_type": "code",
      "metadata": {
        "id": "mE-ZizybjkcJ",
        "colab_type": "code",
        "colab": {}
      },
      "source": [
        "print(A+B)\n",
        "print(A-B)\n",
        "print(A*B)"
      ],
      "execution_count": 0,
      "outputs": []
    },
    {
      "cell_type": "code",
      "metadata": {
        "id": "PfCNkd1djxCp",
        "colab_type": "code",
        "colab": {}
      },
      "source": [
        "#BROADCASTING\n",
        "\n",
        "print(A)\n",
        "print(A+1)"
      ],
      "execution_count": 0,
      "outputs": []
    },
    {
      "cell_type": "code",
      "metadata": {
        "id": "y7iDsHzKkB-c",
        "colab_type": "code",
        "colab": {}
      },
      "source": [
        "A= np.random.random((2,3))"
      ],
      "execution_count": 0,
      "outputs": []
    },
    {
      "cell_type": "code",
      "metadata": {
        "id": "lE0csQlakG3b",
        "colab_type": "code",
        "colab": {}
      },
      "source": [
        "print(A)\n",
        "print(\"------------\")\n",
        "print(A+1)"
      ],
      "execution_count": 0,
      "outputs": []
    },
    {
      "cell_type": "code",
      "metadata": {
        "id": "_SfFXOAikJXG",
        "colab_type": "code",
        "colab": {}
      },
      "source": [
        "A=np.floor(np.random.random((2, 3))*10)\n",
        "print(A)"
      ],
      "execution_count": 0,
      "outputs": []
    },
    {
      "cell_type": "code",
      "metadata": {
        "id": "R2-7ZSo2kcYu",
        "colab_type": "code",
        "colab": {}
      },
      "source": [
        "A= np.random.random((4,3))\n",
        "print(A)"
      ],
      "execution_count": 0,
      "outputs": []
    },
    {
      "cell_type": "code",
      "metadata": {
        "id": "Rjpm7nxJpGcX",
        "colab_type": "code",
        "colab": {}
      },
      "source": [
        "A.sum()"
      ],
      "execution_count": 0,
      "outputs": []
    },
    {
      "cell_type": "code",
      "metadata": {
        "id": "v79hwfP8pIHw",
        "colab_type": "code",
        "colab": {}
      },
      "source": [
        "A.sum(axis=0) #column sum\n"
      ],
      "execution_count": 0,
      "outputs": []
    },
    {
      "cell_type": "code",
      "metadata": {
        "id": "tdamwLLppSPb",
        "colab_type": "code",
        "colab": {}
      },
      "source": [
        "A.sum(axis=1) #ROW SUM"
      ],
      "execution_count": 0,
      "outputs": []
    },
    {
      "cell_type": "markdown",
      "metadata": {
        "id": "bPNY0dcUpwDf",
        "colab_type": "text"
      },
      "source": [
        "# **Plotting**"
      ]
    },
    {
      "cell_type": "code",
      "metadata": {
        "id": "vLMriFNyppTT",
        "colab_type": "code",
        "colab": {}
      },
      "source": [
        "import matplotlib.pyplot as plt\n",
        "import numpy as np"
      ],
      "execution_count": 0,
      "outputs": []
    },
    {
      "cell_type": "code",
      "metadata": {
        "id": "56mce74Jp39g",
        "colab_type": "code",
        "colab": {}
      },
      "source": [
        "x= np.random.random((10,1))\n",
        "print(x)\n"
      ],
      "execution_count": 0,
      "outputs": []
    },
    {
      "cell_type": "code",
      "metadata": {
        "id": "dd5ZiFuYp9Dl",
        "colab_type": "code",
        "colab": {}
      },
      "source": [
        "#index becomes x axis and y axis are the values\n",
        "plt.plot(x, '*')\n",
        "plt.show()"
      ],
      "execution_count": 0,
      "outputs": []
    },
    {
      "cell_type": "code",
      "metadata": {
        "id": "DCSic3XTqAt5",
        "colab_type": "code",
        "colab": {}
      },
      "source": [
        "plt.plot(x)\n",
        "plt.show()"
      ],
      "execution_count": 0,
      "outputs": []
    },
    {
      "cell_type": "code",
      "metadata": {
        "id": "w-yP_yrBqemD",
        "colab_type": "code",
        "colab": {}
      },
      "source": [
        "plt.plot(x, '*-')\n",
        "plt.show()"
      ],
      "execution_count": 0,
      "outputs": []
    },
    {
      "cell_type": "code",
      "metadata": {
        "id": "rdnmYO-Kqgf0",
        "colab_type": "code",
        "colab": {}
      },
      "source": [
        "x= np.linspace(0,10,50)\n",
        "y=np.power(x, 0.5)\n",
        "plt.plot(x,y, '*-')\n",
        "plt.show()"
      ],
      "execution_count": 0,
      "outputs": []
    },
    {
      "cell_type": "code",
      "metadata": {
        "id": "mssnYZHgrE0C",
        "colab_type": "code",
        "colab": {}
      },
      "source": [
        "import seaborn as sns"
      ],
      "execution_count": 0,
      "outputs": []
    },
    {
      "cell_type": "code",
      "metadata": {
        "id": "1bU93f0xrau_",
        "colab_type": "code",
        "colab": {}
      },
      "source": [
        "sns.set()"
      ],
      "execution_count": 0,
      "outputs": []
    },
    {
      "cell_type": "code",
      "metadata": {
        "id": "46CMpW2GsmIA",
        "colab_type": "code",
        "colab": {}
      },
      "source": [
        "sns.lineplot(x,y)\n",
        "plt.show()"
      ],
      "execution_count": 0,
      "outputs": []
    },
    {
      "cell_type": "code",
      "metadata": {
        "id": "3ioTbcO8sp9r",
        "colab_type": "code",
        "colab": {}
      },
      "source": [
        "#!pip install seaborn==0.9.0"
      ],
      "execution_count": 0,
      "outputs": []
    },
    {
      "cell_type": "code",
      "metadata": {
        "id": "e1frv1A6svC0",
        "colab_type": "code",
        "colab": {}
      },
      "source": [
        "import pandas as pd"
      ],
      "execution_count": 0,
      "outputs": []
    },
    {
      "cell_type": "code",
      "metadata": {
        "id": "g7Wvd428uRiB",
        "colab_type": "code",
        "colab": {}
      },
      "source": [
        "data= pd.read_csv('iris.csv')"
      ],
      "execution_count": 0,
      "outputs": []
    },
    {
      "cell_type": "code",
      "metadata": {
        "id": "3WsWstEDuU--",
        "colab_type": "code",
        "colab": {}
      },
      "source": [
        "data.head()"
      ],
      "execution_count": 0,
      "outputs": []
    },
    {
      "cell_type": "code",
      "metadata": {
        "id": "NRNemuaUuWNw",
        "colab_type": "code",
        "colab": {}
      },
      "source": [
        "ax= sns.scatterplot(x='sepal length', y='petal length', data=data)"
      ],
      "execution_count": 0,
      "outputs": []
    },
    {
      "cell_type": "code",
      "metadata": {
        "id": "dKcjex8UuoPD",
        "colab_type": "code",
        "colab": {}
      },
      "source": [
        "ax= sns.scatterplot(x='sepal length', y='petal length', hue= 'classification', data=data)"
      ],
      "execution_count": 0,
      "outputs": []
    },
    {
      "cell_type": "code",
      "metadata": {
        "id": "x9yj1g4Vv_nJ",
        "colab_type": "code",
        "colab": {}
      },
      "source": [
        "ax= sns.distplot(data['petal length'])"
      ],
      "execution_count": 0,
      "outputs": []
    },
    {
      "cell_type": "code",
      "metadata": {
        "id": "azXSF1iaxRb7",
        "colab_type": "code",
        "colab": {}
      },
      "source": [
        "ax= sns.boxplot(y='petal length', x='classification', data=data)"
      ],
      "execution_count": 0,
      "outputs": []
    },
    {
      "cell_type": "code",
      "metadata": {
        "id": "_b1WnCUex2uM",
        "colab_type": "code",
        "colab": {}
      },
      "source": [
        "x= np.random.random((10,10))"
      ],
      "execution_count": 0,
      "outputs": []
    },
    {
      "cell_type": "code",
      "metadata": {
        "id": "vrJaGFfYyjOp",
        "colab_type": "code",
        "colab": {}
      },
      "source": [
        "ax= sns.heatmap(data)"
      ],
      "execution_count": 0,
      "outputs": []
    },
    {
      "cell_type": "code",
      "metadata": {
        "id": "aGeSYXpGy2s7",
        "colab_type": "code",
        "colab": {}
      },
      "source": [
        "import numpy as np\n",
        "A = np.random.randn(4,3)\n",
        "B = np.sum(A, axis = 1, keepdims = True)\n",
        "B.shape"
      ],
      "execution_count": 0,
      "outputs": []
    },
    {
      "cell_type": "code",
      "metadata": {
        "id": "G9KgTMNK09M_",
        "colab_type": "code",
        "colab": {}
      },
      "source": [
        ""
      ],
      "execution_count": 0,
      "outputs": []
    }
  ]
}