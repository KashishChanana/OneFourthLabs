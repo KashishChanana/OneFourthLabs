{
  "nbformat": 4,
  "nbformat_minor": 0,
  "metadata": {
    "colab": {
      "name": "Python Advanced.ipynb",
      "version": "0.3.2",
      "provenance": [],
      "include_colab_link": true
    },
    "kernelspec": {
      "name": "python3",
      "display_name": "Python 3"
    }
  },
  "cells": [
    {
      "cell_type": "markdown",
      "metadata": {
        "id": "view-in-github",
        "colab_type": "text"
      },
      "source": [
        "<a href=\"https://colab.research.google.com/github/KashishChanana/OneFourthLabs/blob/master/Python_Advanced.ipynb\" target=\"_parent\"><img src=\"https://colab.research.google.com/assets/colab-badge.svg\" alt=\"Open In Colab\"/></a>"
      ]
    },
    {
      "cell_type": "code",
      "metadata": {
        "id": "aQwwSfakmRAK",
        "colab_type": "code",
        "colab": {}
      },
      "source": [
        ""
      ],
      "execution_count": 0,
      "outputs": []
    },
    {
      "cell_type": "markdown",
      "metadata": {
        "id": "Ak7ypkcOs_7T",
        "colab_type": "text"
      },
      "source": [
        "## **Drive and Colab integration** "
      ]
    },
    {
      "cell_type": "code",
      "metadata": {
        "id": "Y6Q1U3w8mlPQ",
        "colab_type": "code",
        "outputId": "1b74b9bc-e2b1-479d-8ec5-8f635efe6d3a",
        "colab": {
          "base_uri": "https://localhost:8080/",
          "height": 34
        }
      },
      "source": [
        "# Install the PyDrive wrapper & import libraries.\n",
        "# This only needs to be done once in a notebook.\n",
        "!pip install -U -q PyDrive\n",
        "from pydrive.auth import GoogleAuth\n",
        "from pydrive.drive import GoogleDrive\n",
        "from google.colab import auth\n",
        "from oauth2client.client import GoogleCredentials\n",
        "\n",
        "# Authenticate and create the PyDrive client.\n",
        "# This only needs to be done once in a notebook.\n",
        "auth.authenticate_user()\n",
        "gauth = GoogleAuth()\n",
        "gauth.credentials = GoogleCredentials.get_application_default()\n",
        "drive = GoogleDrive(gauth)\n",
        "\n",
        "# Create & upload a text file.\n",
        "uploaded = drive.CreateFile({'title': 'Sample file.txt'})\n",
        "uploaded.SetContentString('Sample upload file content')\n",
        "uploaded.Upload()\n",
        "print('Uploaded file with ID {}'.format(uploaded.get('id')))"
      ],
      "execution_count": 0,
      "outputs": [
        {
          "output_type": "stream",
          "text": [
            "Uploaded file with ID 1qQdR91Kaa9SbGRvl82uGmjg76zlKhV7R\n"
          ],
          "name": "stdout"
        }
      ]
    },
    {
      "cell_type": "code",
      "metadata": {
        "id": "VgVdljuboNap",
        "colab_type": "code",
        "outputId": "a36f6f96-e8c3-4da6-fa21-6535892a39ff",
        "colab": {
          "base_uri": "https://localhost:8080/",
          "height": 34
        }
      },
      "source": [
        "# Create & upload a text file.\n",
        "uploaded = drive.CreateFile({'title': 'First file.txt'})\n",
        "uploaded.SetContentString('HELLO world its me')\n",
        "uploaded.Upload()\n",
        "print('Uploaded file with ID {}'.format(uploaded.get('id')))"
      ],
      "execution_count": 0,
      "outputs": [
        {
          "output_type": "stream",
          "text": [
            "Uploaded file with ID 1Q-NnvEU7xFVMX1ejWzcyO602JUDFEpv-\n"
          ],
          "name": "stdout"
        }
      ]
    },
    {
      "cell_type": "code",
      "metadata": {
        "id": "B_4QWPlEocwG",
        "colab_type": "code",
        "outputId": "f468f9b9-dd59-4b5c-f3c8-3040a456f548",
        "colab": {
          "base_uri": "https://localhost:8080/",
          "height": 102
        }
      },
      "source": [
        "listed = drive.ListFile({'q': \"title contains '.txt' and 'root' in parents\"}).GetList()\n",
        "for file in listed:\n",
        "  print('title {}, id {}'.format(file['title'], file['id']))"
      ],
      "execution_count": 0,
      "outputs": [
        {
          "output_type": "stream",
          "text": [
            "title Sample file.txt, id 1xOOoWfxrWeUEka3x6nDtFL0MJAHpjLDE\n",
            "title Sample file.txt, id 1g7mFHCWDeCiofaw4816iPGykiY69Zdnh\n",
            "title Sample file.txt, id 1qQdR91Kaa9SbGRvl82uGmjg76zlKhV7R\n",
            "title First file.txt, id 1Q-NnvEU7xFVMX1ejWzcyO602JUDFEpv-\n",
            "title Sample file.txt, id 1cNO7iD4AuiYeLMymTgLGdROEqpy8VLfP\n"
          ],
          "name": "stdout"
        }
      ]
    },
    {
      "cell_type": "code",
      "metadata": {
        "id": "RXSaVnA7sU3n",
        "colab_type": "code",
        "colab": {}
      },
      "source": [
        "file_id = '17zTCbX4D8By3t2srHqgaD2LRpS-pnsSl' #https://drive.google.com/open?id=\n",
        "downloaded = drive.CreateFile({'id': file_id})\n",
        "print('Downloaded content \"{}\"'.format(downloaded.GetContentString()))"
      ],
      "execution_count": 0,
      "outputs": []
    },
    {
      "cell_type": "code",
      "metadata": {
        "id": "7z6JmmlWsfQ0",
        "colab_type": "code",
        "colab": {}
      },
      "source": [
        "downloaded.GetContentFile('iris.csv')"
      ],
      "execution_count": 0,
      "outputs": []
    },
    {
      "cell_type": "code",
      "metadata": {
        "id": "3UfsqFgssxft",
        "colab_type": "code",
        "outputId": "fba3689f-8b0f-4c79-87e6-d3af2b232a61",
        "colab": {
          "base_uri": "https://localhost:8080/",
          "height": 34
        }
      },
      "source": [
        "!ls"
      ],
      "execution_count": 0,
      "outputs": [
        {
          "output_type": "stream",
          "text": [
            "adc.json  iris.csv  sample_data\n"
          ],
          "name": "stdout"
        }
      ]
    },
    {
      "cell_type": "markdown",
      "metadata": {
        "id": "MMDyVKOItI3R",
        "colab_type": "text"
      },
      "source": [
        "# **Pandas**"
      ]
    },
    {
      "cell_type": "code",
      "metadata": {
        "id": "lwYp4er7tNIO",
        "colab_type": "code",
        "colab": {}
      },
      "source": [
        "import pandas as pd"
      ],
      "execution_count": 0,
      "outputs": []
    },
    {
      "cell_type": "code",
      "metadata": {
        "id": "3biMUQ2gtlRu",
        "colab_type": "code",
        "colab": {}
      },
      "source": [
        "df= pd.read_csv('iris.csv')"
      ],
      "execution_count": 0,
      "outputs": []
    },
    {
      "cell_type": "code",
      "metadata": {
        "id": "w0x2M4adtr4G",
        "colab_type": "code",
        "outputId": "bd29599e-6d33-47f8-e98e-20ea9c838def",
        "colab": {
          "base_uri": "https://localhost:8080/",
          "height": 204
        }
      },
      "source": [
        "df.head()"
      ],
      "execution_count": 0,
      "outputs": [
        {
          "output_type": "execute_result",
          "data": {
            "text/html": [
              "<div>\n",
              "<style scoped>\n",
              "    .dataframe tbody tr th:only-of-type {\n",
              "        vertical-align: middle;\n",
              "    }\n",
              "\n",
              "    .dataframe tbody tr th {\n",
              "        vertical-align: top;\n",
              "    }\n",
              "\n",
              "    .dataframe thead th {\n",
              "        text-align: right;\n",
              "    }\n",
              "</style>\n",
              "<table border=\"1\" class=\"dataframe\">\n",
              "  <thead>\n",
              "    <tr style=\"text-align: right;\">\n",
              "      <th></th>\n",
              "      <th>sepal length</th>\n",
              "      <th>sepal width</th>\n",
              "      <th>petal length</th>\n",
              "      <th>petal width</th>\n",
              "      <th>classification</th>\n",
              "    </tr>\n",
              "  </thead>\n",
              "  <tbody>\n",
              "    <tr>\n",
              "      <th>0</th>\n",
              "      <td>5.1</td>\n",
              "      <td>3.5</td>\n",
              "      <td>1.4</td>\n",
              "      <td>0.2</td>\n",
              "      <td>Iris-setosa</td>\n",
              "    </tr>\n",
              "    <tr>\n",
              "      <th>1</th>\n",
              "      <td>4.9</td>\n",
              "      <td>3.0</td>\n",
              "      <td>1.4</td>\n",
              "      <td>0.2</td>\n",
              "      <td>Iris-setosa</td>\n",
              "    </tr>\n",
              "    <tr>\n",
              "      <th>2</th>\n",
              "      <td>4.7</td>\n",
              "      <td>3.2</td>\n",
              "      <td>1.3</td>\n",
              "      <td>0.2</td>\n",
              "      <td>Iris-setosa</td>\n",
              "    </tr>\n",
              "    <tr>\n",
              "      <th>3</th>\n",
              "      <td>4.6</td>\n",
              "      <td>3.1</td>\n",
              "      <td>1.5</td>\n",
              "      <td>0.2</td>\n",
              "      <td>Iris-setosa</td>\n",
              "    </tr>\n",
              "    <tr>\n",
              "      <th>4</th>\n",
              "      <td>5.0</td>\n",
              "      <td>3.6</td>\n",
              "      <td>1.4</td>\n",
              "      <td>0.2</td>\n",
              "      <td>Iris-setosa</td>\n",
              "    </tr>\n",
              "  </tbody>\n",
              "</table>\n",
              "</div>"
            ],
            "text/plain": [
              "   sepal length  sepal width  petal length  petal width classification\n",
              "0           5.1          3.5           1.4          0.2    Iris-setosa\n",
              "1           4.9          3.0           1.4          0.2    Iris-setosa\n",
              "2           4.7          3.2           1.3          0.2    Iris-setosa\n",
              "3           4.6          3.1           1.5          0.2    Iris-setosa\n",
              "4           5.0          3.6           1.4          0.2    Iris-setosa"
            ]
          },
          "metadata": {
            "tags": []
          },
          "execution_count": 11
        }
      ]
    },
    {
      "cell_type": "code",
      "metadata": {
        "id": "CKXFFZmTttLg",
        "colab_type": "code",
        "outputId": "92f4eaf4-4e00-447b-99b7-abf31d1952d8",
        "colab": {
          "base_uri": "https://localhost:8080/",
          "height": 204
        }
      },
      "source": [
        "df.tail()"
      ],
      "execution_count": 0,
      "outputs": [
        {
          "output_type": "execute_result",
          "data": {
            "text/html": [
              "<div>\n",
              "<style scoped>\n",
              "    .dataframe tbody tr th:only-of-type {\n",
              "        vertical-align: middle;\n",
              "    }\n",
              "\n",
              "    .dataframe tbody tr th {\n",
              "        vertical-align: top;\n",
              "    }\n",
              "\n",
              "    .dataframe thead th {\n",
              "        text-align: right;\n",
              "    }\n",
              "</style>\n",
              "<table border=\"1\" class=\"dataframe\">\n",
              "  <thead>\n",
              "    <tr style=\"text-align: right;\">\n",
              "      <th></th>\n",
              "      <th>sepal length</th>\n",
              "      <th>sepal width</th>\n",
              "      <th>petal length</th>\n",
              "      <th>petal width</th>\n",
              "      <th>classification</th>\n",
              "    </tr>\n",
              "  </thead>\n",
              "  <tbody>\n",
              "    <tr>\n",
              "      <th>145</th>\n",
              "      <td>6.7</td>\n",
              "      <td>3.0</td>\n",
              "      <td>5.2</td>\n",
              "      <td>2.3</td>\n",
              "      <td>Iris-virginica</td>\n",
              "    </tr>\n",
              "    <tr>\n",
              "      <th>146</th>\n",
              "      <td>6.3</td>\n",
              "      <td>2.5</td>\n",
              "      <td>5.0</td>\n",
              "      <td>1.9</td>\n",
              "      <td>Iris-virginica</td>\n",
              "    </tr>\n",
              "    <tr>\n",
              "      <th>147</th>\n",
              "      <td>6.5</td>\n",
              "      <td>3.0</td>\n",
              "      <td>5.2</td>\n",
              "      <td>2.0</td>\n",
              "      <td>Iris-virginica</td>\n",
              "    </tr>\n",
              "    <tr>\n",
              "      <th>148</th>\n",
              "      <td>6.2</td>\n",
              "      <td>3.4</td>\n",
              "      <td>5.4</td>\n",
              "      <td>2.3</td>\n",
              "      <td>Iris-virginica</td>\n",
              "    </tr>\n",
              "    <tr>\n",
              "      <th>149</th>\n",
              "      <td>5.9</td>\n",
              "      <td>3.0</td>\n",
              "      <td>5.1</td>\n",
              "      <td>1.8</td>\n",
              "      <td>Iris-virginica</td>\n",
              "    </tr>\n",
              "  </tbody>\n",
              "</table>\n",
              "</div>"
            ],
            "text/plain": [
              "     sepal length  sepal width  petal length  petal width  classification\n",
              "145           6.7          3.0           5.2          2.3  Iris-virginica\n",
              "146           6.3          2.5           5.0          1.9  Iris-virginica\n",
              "147           6.5          3.0           5.2          2.0  Iris-virginica\n",
              "148           6.2          3.4           5.4          2.3  Iris-virginica\n",
              "149           5.9          3.0           5.1          1.8  Iris-virginica"
            ]
          },
          "metadata": {
            "tags": []
          },
          "execution_count": 12
        }
      ]
    },
    {
      "cell_type": "code",
      "metadata": {
        "id": "bivECh4wtx-H",
        "colab_type": "code",
        "outputId": "36bfe07f-ae70-499a-b039-84d6785513ec",
        "colab": {
          "base_uri": "https://localhost:8080/",
          "height": 34
        }
      },
      "source": [
        "type(df)"
      ],
      "execution_count": 0,
      "outputs": [
        {
          "output_type": "execute_result",
          "data": {
            "text/plain": [
              "pandas.core.frame.DataFrame"
            ]
          },
          "metadata": {
            "tags": []
          },
          "execution_count": 13
        }
      ]
    },
    {
      "cell_type": "code",
      "metadata": {
        "id": "eYk314VBtzg7",
        "colab_type": "code",
        "outputId": "bab249b2-2987-4275-af05-5538f156b48d",
        "colab": {
          "base_uri": "https://localhost:8080/",
          "height": 34
        }
      },
      "source": [
        "len(df)"
      ],
      "execution_count": 0,
      "outputs": [
        {
          "output_type": "execute_result",
          "data": {
            "text/plain": [
              "150"
            ]
          },
          "metadata": {
            "tags": []
          },
          "execution_count": 14
        }
      ]
    },
    {
      "cell_type": "code",
      "metadata": {
        "id": "3tA_YYQUuV1H",
        "colab_type": "code",
        "outputId": "191d2c4e-0ce0-4b42-f672-946604431f2f",
        "colab": {
          "base_uri": "https://localhost:8080/",
          "height": 34
        }
      },
      "source": [
        "df.shape"
      ],
      "execution_count": 0,
      "outputs": [
        {
          "output_type": "execute_result",
          "data": {
            "text/plain": [
              "(150, 5)"
            ]
          },
          "metadata": {
            "tags": []
          },
          "execution_count": 15
        }
      ]
    },
    {
      "cell_type": "code",
      "metadata": {
        "id": "QyNVR8xFuX4n",
        "colab_type": "code",
        "outputId": "a7f848a9-0d8e-4026-af59-a6e77f1126e1",
        "colab": {
          "base_uri": "https://localhost:8080/",
          "height": 119
        }
      },
      "source": [
        "df.loc[5]"
      ],
      "execution_count": 0,
      "outputs": [
        {
          "output_type": "execute_result",
          "data": {
            "text/plain": [
              "sepal length              5.4\n",
              "sepal width               3.9\n",
              "petal length              1.7\n",
              "petal width               0.4\n",
              "classification    Iris-setosa\n",
              "Name: 5, dtype: object"
            ]
          },
          "metadata": {
            "tags": []
          },
          "execution_count": 17
        }
      ]
    },
    {
      "cell_type": "code",
      "metadata": {
        "id": "bO6wKHruubc7",
        "colab_type": "code",
        "colab": {}
      },
      "source": [
        "df_short=df[['sepal length', 'sepal width', 'petal length', 'petal width', 'classification']]"
      ],
      "execution_count": 0,
      "outputs": []
    },
    {
      "cell_type": "code",
      "metadata": {
        "id": "jm04xLw-u_YM",
        "colab_type": "code",
        "outputId": "0dc5b110-ebb5-4de5-8b8f-a38db82a572c",
        "colab": {
          "base_uri": "https://localhost:8080/",
          "height": 34
        }
      },
      "source": [
        "df_short.shape"
      ],
      "execution_count": 0,
      "outputs": [
        {
          "output_type": "execute_result",
          "data": {
            "text/plain": [
              "(150, 5)"
            ]
          },
          "metadata": {
            "tags": []
          },
          "execution_count": 24
        }
      ]
    },
    {
      "cell_type": "code",
      "metadata": {
        "id": "cxS5xRBAvEpm",
        "colab_type": "code",
        "colab": {}
      },
      "source": [
        "df_setosa= df[df['classification']=='Iris-setosa']"
      ],
      "execution_count": 0,
      "outputs": []
    },
    {
      "cell_type": "code",
      "metadata": {
        "id": "8KoOPyctvfct",
        "colab_type": "code",
        "outputId": "b8821a33-cab0-48cb-bf51-46c52570b48b",
        "colab": {
          "base_uri": "https://localhost:8080/",
          "height": 34
        }
      },
      "source": [
        "df_setosa.shape"
      ],
      "execution_count": 0,
      "outputs": [
        {
          "output_type": "execute_result",
          "data": {
            "text/plain": [
              "(50, 5)"
            ]
          },
          "metadata": {
            "tags": []
          },
          "execution_count": 35
        }
      ]
    },
    {
      "cell_type": "code",
      "metadata": {
        "id": "E577e-sbvqWX",
        "colab_type": "code",
        "outputId": "3e29aa25-1177-43d9-b179-c24a5613164e",
        "colab": {
          "base_uri": "https://localhost:8080/",
          "height": 34
        }
      },
      "source": [
        "df_short['petal width'].mean()"
      ],
      "execution_count": 0,
      "outputs": [
        {
          "output_type": "execute_result",
          "data": {
            "text/plain": [
              "1.1986666666666672"
            ]
          },
          "metadata": {
            "tags": []
          },
          "execution_count": 36
        }
      ]
    },
    {
      "cell_type": "code",
      "metadata": {
        "id": "lvFZWAlfwDII",
        "colab_type": "code",
        "outputId": "584fe805-d11c-4906-e9a4-9620cdb5cb03",
        "colab": {
          "base_uri": "https://localhost:8080/",
          "height": 297
        }
      },
      "source": [
        "df_short.describe()"
      ],
      "execution_count": 0,
      "outputs": [
        {
          "output_type": "execute_result",
          "data": {
            "text/html": [
              "<div>\n",
              "<style scoped>\n",
              "    .dataframe tbody tr th:only-of-type {\n",
              "        vertical-align: middle;\n",
              "    }\n",
              "\n",
              "    .dataframe tbody tr th {\n",
              "        vertical-align: top;\n",
              "    }\n",
              "\n",
              "    .dataframe thead th {\n",
              "        text-align: right;\n",
              "    }\n",
              "</style>\n",
              "<table border=\"1\" class=\"dataframe\">\n",
              "  <thead>\n",
              "    <tr style=\"text-align: right;\">\n",
              "      <th></th>\n",
              "      <th>sepal length</th>\n",
              "      <th>sepal width</th>\n",
              "      <th>petal length</th>\n",
              "      <th>petal width</th>\n",
              "    </tr>\n",
              "  </thead>\n",
              "  <tbody>\n",
              "    <tr>\n",
              "      <th>count</th>\n",
              "      <td>150.000000</td>\n",
              "      <td>150.000000</td>\n",
              "      <td>150.000000</td>\n",
              "      <td>150.000000</td>\n",
              "    </tr>\n",
              "    <tr>\n",
              "      <th>mean</th>\n",
              "      <td>5.843333</td>\n",
              "      <td>3.054000</td>\n",
              "      <td>3.758667</td>\n",
              "      <td>1.198667</td>\n",
              "    </tr>\n",
              "    <tr>\n",
              "      <th>std</th>\n",
              "      <td>0.828066</td>\n",
              "      <td>0.433594</td>\n",
              "      <td>1.764420</td>\n",
              "      <td>0.763161</td>\n",
              "    </tr>\n",
              "    <tr>\n",
              "      <th>min</th>\n",
              "      <td>4.300000</td>\n",
              "      <td>2.000000</td>\n",
              "      <td>1.000000</td>\n",
              "      <td>0.100000</td>\n",
              "    </tr>\n",
              "    <tr>\n",
              "      <th>25%</th>\n",
              "      <td>5.100000</td>\n",
              "      <td>2.800000</td>\n",
              "      <td>1.600000</td>\n",
              "      <td>0.300000</td>\n",
              "    </tr>\n",
              "    <tr>\n",
              "      <th>50%</th>\n",
              "      <td>5.800000</td>\n",
              "      <td>3.000000</td>\n",
              "      <td>4.350000</td>\n",
              "      <td>1.300000</td>\n",
              "    </tr>\n",
              "    <tr>\n",
              "      <th>75%</th>\n",
              "      <td>6.400000</td>\n",
              "      <td>3.300000</td>\n",
              "      <td>5.100000</td>\n",
              "      <td>1.800000</td>\n",
              "    </tr>\n",
              "    <tr>\n",
              "      <th>max</th>\n",
              "      <td>7.900000</td>\n",
              "      <td>4.400000</td>\n",
              "      <td>6.900000</td>\n",
              "      <td>2.500000</td>\n",
              "    </tr>\n",
              "  </tbody>\n",
              "</table>\n",
              "</div>"
            ],
            "text/plain": [
              "       sepal length  sepal width  petal length  petal width\n",
              "count    150.000000   150.000000    150.000000   150.000000\n",
              "mean       5.843333     3.054000      3.758667     1.198667\n",
              "std        0.828066     0.433594      1.764420     0.763161\n",
              "min        4.300000     2.000000      1.000000     0.100000\n",
              "25%        5.100000     2.800000      1.600000     0.300000\n",
              "50%        5.800000     3.000000      4.350000     1.300000\n",
              "75%        6.400000     3.300000      5.100000     1.800000\n",
              "max        7.900000     4.400000      6.900000     2.500000"
            ]
          },
          "metadata": {
            "tags": []
          },
          "execution_count": 37
        }
      ]
    },
    {
      "cell_type": "code",
      "metadata": {
        "id": "-6gWKqOYwFlD",
        "colab_type": "code",
        "colab": {}
      },
      "source": [
        "g= df_short.groupby(['classification'])"
      ],
      "execution_count": 0,
      "outputs": []
    },
    {
      "cell_type": "code",
      "metadata": {
        "id": "0oVg22ynw-D_",
        "colab_type": "code",
        "outputId": "9911b202-7fb0-40c0-abb2-bc0b27bb97bd",
        "colab": {
          "base_uri": "https://localhost:8080/",
          "height": 2771
        }
      },
      "source": [
        "for key, df_key in g:\n",
        "  print('******************')\n",
        "  print(key)\n",
        "  print(\"******************\")\n",
        "  print(df_key)"
      ],
      "execution_count": 0,
      "outputs": [
        {
          "output_type": "stream",
          "text": [
            "******************\n",
            "Iris-setosa\n",
            "******************\n",
            "    sepal length  sepal width  petal length  petal width classification\n",
            "0            5.1          3.5           1.4          0.2    Iris-setosa\n",
            "1            4.9          3.0           1.4          0.2    Iris-setosa\n",
            "2            4.7          3.2           1.3          0.2    Iris-setosa\n",
            "3            4.6          3.1           1.5          0.2    Iris-setosa\n",
            "4            5.0          3.6           1.4          0.2    Iris-setosa\n",
            "5            5.4          3.9           1.7          0.4    Iris-setosa\n",
            "6            4.6          3.4           1.4          0.3    Iris-setosa\n",
            "7            5.0          3.4           1.5          0.2    Iris-setosa\n",
            "8            4.4          2.9           1.4          0.2    Iris-setosa\n",
            "9            4.9          3.1           1.5          0.1    Iris-setosa\n",
            "10           5.4          3.7           1.5          0.2    Iris-setosa\n",
            "11           4.8          3.4           1.6          0.2    Iris-setosa\n",
            "12           4.8          3.0           1.4          0.1    Iris-setosa\n",
            "13           4.3          3.0           1.1          0.1    Iris-setosa\n",
            "14           5.8          4.0           1.2          0.2    Iris-setosa\n",
            "15           5.7          4.4           1.5          0.4    Iris-setosa\n",
            "16           5.4          3.9           1.3          0.4    Iris-setosa\n",
            "17           5.1          3.5           1.4          0.3    Iris-setosa\n",
            "18           5.7          3.8           1.7          0.3    Iris-setosa\n",
            "19           5.1          3.8           1.5          0.3    Iris-setosa\n",
            "20           5.4          3.4           1.7          0.2    Iris-setosa\n",
            "21           5.1          3.7           1.5          0.4    Iris-setosa\n",
            "22           4.6          3.6           1.0          0.2    Iris-setosa\n",
            "23           5.1          3.3           1.7          0.5    Iris-setosa\n",
            "24           4.8          3.4           1.9          0.2    Iris-setosa\n",
            "25           5.0          3.0           1.6          0.2    Iris-setosa\n",
            "26           5.0          3.4           1.6          0.4    Iris-setosa\n",
            "27           5.2          3.5           1.5          0.2    Iris-setosa\n",
            "28           5.2          3.4           1.4          0.2    Iris-setosa\n",
            "29           4.7          3.2           1.6          0.2    Iris-setosa\n",
            "30           4.8          3.1           1.6          0.2    Iris-setosa\n",
            "31           5.4          3.4           1.5          0.4    Iris-setosa\n",
            "32           5.2          4.1           1.5          0.1    Iris-setosa\n",
            "33           5.5          4.2           1.4          0.2    Iris-setosa\n",
            "34           4.9          3.1           1.5          0.1    Iris-setosa\n",
            "35           5.0          3.2           1.2          0.2    Iris-setosa\n",
            "36           5.5          3.5           1.3          0.2    Iris-setosa\n",
            "37           4.9          3.1           1.5          0.1    Iris-setosa\n",
            "38           4.4          3.0           1.3          0.2    Iris-setosa\n",
            "39           5.1          3.4           1.5          0.2    Iris-setosa\n",
            "40           5.0          3.5           1.3          0.3    Iris-setosa\n",
            "41           4.5          2.3           1.3          0.3    Iris-setosa\n",
            "42           4.4          3.2           1.3          0.2    Iris-setosa\n",
            "43           5.0          3.5           1.6          0.6    Iris-setosa\n",
            "44           5.1          3.8           1.9          0.4    Iris-setosa\n",
            "45           4.8          3.0           1.4          0.3    Iris-setosa\n",
            "46           5.1          3.8           1.6          0.2    Iris-setosa\n",
            "47           4.6          3.2           1.4          0.2    Iris-setosa\n",
            "48           5.3          3.7           1.5          0.2    Iris-setosa\n",
            "49           5.0          3.3           1.4          0.2    Iris-setosa\n",
            "******************\n",
            "Iris-versicolor\n",
            "******************\n",
            "    sepal length  sepal width  petal length  petal width   classification\n",
            "50           7.0          3.2           4.7          1.4  Iris-versicolor\n",
            "51           6.4          3.2           4.5          1.5  Iris-versicolor\n",
            "52           6.9          3.1           4.9          1.5  Iris-versicolor\n",
            "53           5.5          2.3           4.0          1.3  Iris-versicolor\n",
            "54           6.5          2.8           4.6          1.5  Iris-versicolor\n",
            "55           5.7          2.8           4.5          1.3  Iris-versicolor\n",
            "56           6.3          3.3           4.7          1.6  Iris-versicolor\n",
            "57           4.9          2.4           3.3          1.0  Iris-versicolor\n",
            "58           6.6          2.9           4.6          1.3  Iris-versicolor\n",
            "59           5.2          2.7           3.9          1.4  Iris-versicolor\n",
            "60           5.0          2.0           3.5          1.0  Iris-versicolor\n",
            "61           5.9          3.0           4.2          1.5  Iris-versicolor\n",
            "62           6.0          2.2           4.0          1.0  Iris-versicolor\n",
            "63           6.1          2.9           4.7          1.4  Iris-versicolor\n",
            "64           5.6          2.9           3.6          1.3  Iris-versicolor\n",
            "65           6.7          3.1           4.4          1.4  Iris-versicolor\n",
            "66           5.6          3.0           4.5          1.5  Iris-versicolor\n",
            "67           5.8          2.7           4.1          1.0  Iris-versicolor\n",
            "68           6.2          2.2           4.5          1.5  Iris-versicolor\n",
            "69           5.6          2.5           3.9          1.1  Iris-versicolor\n",
            "70           5.9          3.2           4.8          1.8  Iris-versicolor\n",
            "71           6.1          2.8           4.0          1.3  Iris-versicolor\n",
            "72           6.3          2.5           4.9          1.5  Iris-versicolor\n",
            "73           6.1          2.8           4.7          1.2  Iris-versicolor\n",
            "74           6.4          2.9           4.3          1.3  Iris-versicolor\n",
            "75           6.6          3.0           4.4          1.4  Iris-versicolor\n",
            "76           6.8          2.8           4.8          1.4  Iris-versicolor\n",
            "77           6.7          3.0           5.0          1.7  Iris-versicolor\n",
            "78           6.0          2.9           4.5          1.5  Iris-versicolor\n",
            "79           5.7          2.6           3.5          1.0  Iris-versicolor\n",
            "80           5.5          2.4           3.8          1.1  Iris-versicolor\n",
            "81           5.5          2.4           3.7          1.0  Iris-versicolor\n",
            "82           5.8          2.7           3.9          1.2  Iris-versicolor\n",
            "83           6.0          2.7           5.1          1.6  Iris-versicolor\n",
            "84           5.4          3.0           4.5          1.5  Iris-versicolor\n",
            "85           6.0          3.4           4.5          1.6  Iris-versicolor\n",
            "86           6.7          3.1           4.7          1.5  Iris-versicolor\n",
            "87           6.3          2.3           4.4          1.3  Iris-versicolor\n",
            "88           5.6          3.0           4.1          1.3  Iris-versicolor\n",
            "89           5.5          2.5           4.0          1.3  Iris-versicolor\n",
            "90           5.5          2.6           4.4          1.2  Iris-versicolor\n",
            "91           6.1          3.0           4.6          1.4  Iris-versicolor\n",
            "92           5.8          2.6           4.0          1.2  Iris-versicolor\n",
            "93           5.0          2.3           3.3          1.0  Iris-versicolor\n",
            "94           5.6          2.7           4.2          1.3  Iris-versicolor\n",
            "95           5.7          3.0           4.2          1.2  Iris-versicolor\n",
            "96           5.7          2.9           4.2          1.3  Iris-versicolor\n",
            "97           6.2          2.9           4.3          1.3  Iris-versicolor\n",
            "98           5.1          2.5           3.0          1.1  Iris-versicolor\n",
            "99           5.7          2.8           4.1          1.3  Iris-versicolor\n",
            "******************\n",
            "Iris-virginica\n",
            "******************\n",
            "     sepal length  sepal width  petal length  petal width  classification\n",
            "100           6.3          3.3           6.0          2.5  Iris-virginica\n",
            "101           5.8          2.7           5.1          1.9  Iris-virginica\n",
            "102           7.1          3.0           5.9          2.1  Iris-virginica\n",
            "103           6.3          2.9           5.6          1.8  Iris-virginica\n",
            "104           6.5          3.0           5.8          2.2  Iris-virginica\n",
            "105           7.6          3.0           6.6          2.1  Iris-virginica\n",
            "106           4.9          2.5           4.5          1.7  Iris-virginica\n",
            "107           7.3          2.9           6.3          1.8  Iris-virginica\n",
            "108           6.7          2.5           5.8          1.8  Iris-virginica\n",
            "109           7.2          3.6           6.1          2.5  Iris-virginica\n",
            "110           6.5          3.2           5.1          2.0  Iris-virginica\n",
            "111           6.4          2.7           5.3          1.9  Iris-virginica\n",
            "112           6.8          3.0           5.5          2.1  Iris-virginica\n",
            "113           5.7          2.5           5.0          2.0  Iris-virginica\n",
            "114           5.8          2.8           5.1          2.4  Iris-virginica\n",
            "115           6.4          3.2           5.3          2.3  Iris-virginica\n",
            "116           6.5          3.0           5.5          1.8  Iris-virginica\n",
            "117           7.7          3.8           6.7          2.2  Iris-virginica\n",
            "118           7.7          2.6           6.9          2.3  Iris-virginica\n",
            "119           6.0          2.2           5.0          1.5  Iris-virginica\n",
            "120           6.9          3.2           5.7          2.3  Iris-virginica\n",
            "121           5.6          2.8           4.9          2.0  Iris-virginica\n",
            "122           7.7          2.8           6.7          2.0  Iris-virginica\n",
            "123           6.3          2.7           4.9          1.8  Iris-virginica\n",
            "124           6.7          3.3           5.7          2.1  Iris-virginica\n",
            "125           7.2          3.2           6.0          1.8  Iris-virginica\n",
            "126           6.2          2.8           4.8          1.8  Iris-virginica\n",
            "127           6.1          3.0           4.9          1.8  Iris-virginica\n",
            "128           6.4          2.8           5.6          2.1  Iris-virginica\n",
            "129           7.2          3.0           5.8          1.6  Iris-virginica\n",
            "130           7.4          2.8           6.1          1.9  Iris-virginica\n",
            "131           7.9          3.8           6.4          2.0  Iris-virginica\n",
            "132           6.4          2.8           5.6          2.2  Iris-virginica\n",
            "133           6.3          2.8           5.1          1.5  Iris-virginica\n",
            "134           6.1          2.6           5.6          1.4  Iris-virginica\n",
            "135           7.7          3.0           6.1          2.3  Iris-virginica\n",
            "136           6.3          3.4           5.6          2.4  Iris-virginica\n",
            "137           6.4          3.1           5.5          1.8  Iris-virginica\n",
            "138           6.0          3.0           4.8          1.8  Iris-virginica\n",
            "139           6.9          3.1           5.4          2.1  Iris-virginica\n",
            "140           6.7          3.1           5.6          2.4  Iris-virginica\n",
            "141           6.9          3.1           5.1          2.3  Iris-virginica\n",
            "142           5.8          2.7           5.1          1.9  Iris-virginica\n",
            "143           6.8          3.2           5.9          2.3  Iris-virginica\n",
            "144           6.7          3.3           5.7          2.5  Iris-virginica\n",
            "145           6.7          3.0           5.2          2.3  Iris-virginica\n",
            "146           6.3          2.5           5.0          1.9  Iris-virginica\n",
            "147           6.5          3.0           5.2          2.0  Iris-virginica\n",
            "148           6.2          3.4           5.4          2.3  Iris-virginica\n",
            "149           5.9          3.0           5.1          1.8  Iris-virginica\n"
          ],
          "name": "stdout"
        }
      ]
    },
    {
      "cell_type": "code",
      "metadata": {
        "id": "_xEyKgOzxH1-",
        "colab_type": "code",
        "outputId": "d94c6ccc-ffd8-46e7-8481-23d76e2edc87",
        "colab": {
          "base_uri": "https://localhost:8080/",
          "height": 173
        }
      },
      "source": [
        "g.mean()"
      ],
      "execution_count": 0,
      "outputs": [
        {
          "output_type": "execute_result",
          "data": {
            "text/html": [
              "<div>\n",
              "<style scoped>\n",
              "    .dataframe tbody tr th:only-of-type {\n",
              "        vertical-align: middle;\n",
              "    }\n",
              "\n",
              "    .dataframe tbody tr th {\n",
              "        vertical-align: top;\n",
              "    }\n",
              "\n",
              "    .dataframe thead th {\n",
              "        text-align: right;\n",
              "    }\n",
              "</style>\n",
              "<table border=\"1\" class=\"dataframe\">\n",
              "  <thead>\n",
              "    <tr style=\"text-align: right;\">\n",
              "      <th></th>\n",
              "      <th>sepal length</th>\n",
              "      <th>sepal width</th>\n",
              "      <th>petal length</th>\n",
              "      <th>petal width</th>\n",
              "    </tr>\n",
              "    <tr>\n",
              "      <th>classification</th>\n",
              "      <th></th>\n",
              "      <th></th>\n",
              "      <th></th>\n",
              "      <th></th>\n",
              "    </tr>\n",
              "  </thead>\n",
              "  <tbody>\n",
              "    <tr>\n",
              "      <th>Iris-setosa</th>\n",
              "      <td>5.006</td>\n",
              "      <td>3.418</td>\n",
              "      <td>1.464</td>\n",
              "      <td>0.244</td>\n",
              "    </tr>\n",
              "    <tr>\n",
              "      <th>Iris-versicolor</th>\n",
              "      <td>5.936</td>\n",
              "      <td>2.770</td>\n",
              "      <td>4.260</td>\n",
              "      <td>1.326</td>\n",
              "    </tr>\n",
              "    <tr>\n",
              "      <th>Iris-virginica</th>\n",
              "      <td>6.588</td>\n",
              "      <td>2.974</td>\n",
              "      <td>5.552</td>\n",
              "      <td>2.026</td>\n",
              "    </tr>\n",
              "  </tbody>\n",
              "</table>\n",
              "</div>"
            ],
            "text/plain": [
              "                 sepal length  sepal width  petal length  petal width\n",
              "classification                                                       \n",
              "Iris-setosa             5.006        3.418         1.464        0.244\n",
              "Iris-versicolor         5.936        2.770         4.260        1.326\n",
              "Iris-virginica          6.588        2.974         5.552        2.026"
            ]
          },
          "metadata": {
            "tags": []
          },
          "execution_count": 40
        }
      ]
    },
    {
      "cell_type": "code",
      "metadata": {
        "id": "nJAQs6xoxPTv",
        "colab_type": "code",
        "colab": {}
      },
      "source": [
        "import matplotlib.pyplot as plt\n",
        "import seaborn as sns\n",
        "sns.set()"
      ],
      "execution_count": 0,
      "outputs": []
    },
    {
      "cell_type": "code",
      "metadata": {
        "id": "N-JkUpeWycoM",
        "colab_type": "code",
        "outputId": "849c065b-f064-458c-cddd-c2c330300c9a",
        "colab": {
          "base_uri": "https://localhost:8080/",
          "height": 741
        }
      },
      "source": [
        "ax= sns.pairplot(df_short, diag_kind='hist', hue='classification')"
      ],
      "execution_count": 0,
      "outputs": [
        {
          "output_type": "display_data",
          "data": {
            "image/png": "[encoded data removed]",
            "text/plain": [
              "<Figure size 815.25x720 with 20 Axes>"
            ]
          },
          "metadata": {
            "tags": []
          }
        }
      ]
    },
    {
      "cell_type": "markdown",
      "metadata": {
        "id": "Yd6csZhpzDy7",
        "colab_type": "text"
      },
      "source": [
        "# **Vetors**"
      ]
    },
    {
      "cell_type": "code",
      "metadata": {
        "id": "jbK7tajjymzY",
        "colab_type": "code",
        "colab": {}
      },
      "source": [
        "import numpy as np"
      ],
      "execution_count": 0,
      "outputs": []
    },
    {
      "cell_type": "code",
      "metadata": {
        "id": "-CfcTog6zC3r",
        "colab_type": "code",
        "outputId": "9e17dfc4-8e18-446d-d0e6-19c24f7fcc7c",
        "colab": {
          "base_uri": "https://localhost:8080/",
          "height": 347
        }
      },
      "source": [
        "plt.quiver(0,0,3,4)\n",
        "plt.show()"
      ],
      "execution_count": 0,
      "outputs": [
        {
          "output_type": "display_data",
          "data": {
            "image/png": "[encoded data removed]",
            "text/plain": [
              "<Figure size 576x396 with 1 Axes>"
            ]
          },
          "metadata": {
            "tags": []
          }
        }
      ]
    },
    {
      "cell_type": "code",
      "metadata": {
        "id": "c-2m3vwY17Np",
        "colab_type": "code",
        "outputId": "2ca99125-a8bf-4c17-fff2-278860687237",
        "colab": {
          "base_uri": "https://localhost:8080/",
          "height": 351
        }
      },
      "source": [
        "plt.quiver(0,0,3,4, scale_units='xy', angles='xy', scale=1 )\n",
        "plt.xlim(-10,10)\n",
        "plt.ylim(-10,10)\n",
        "plt.show()"
      ],
      "execution_count": 0,
      "outputs": [
        {
          "output_type": "display_data",
          "data": {
            "image/png": "[encoded data removed]",
            "text/plain": [
              "<Figure size 576x396 with 1 Axes>"
            ]
          },
          "metadata": {
            "tags": []
          }
        }
      ]
    },
    {
      "cell_type": "code",
      "metadata": {
        "id": "s22AXnM52QdO",
        "colab_type": "code",
        "outputId": "02075e27-156d-4950-f7f2-562caf4a5e2a",
        "colab": {
          "base_uri": "https://localhost:8080/",
          "height": 351
        }
      },
      "source": [
        "plt.quiver(0,0,3,4, scale_units='xy', angles='xy', scale=1 ,color='red')\n",
        "plt.quiver(0,0,-3,-4, scale_units='xy', angles='xy', scale=1 ,color='blue')\n",
        "plt.xlim(-10,10)\n",
        "plt.ylim(-10,10)\n",
        "plt.show()"
      ],
      "execution_count": 0,
      "outputs": [
        {
          "output_type": "display_data",
          "data": {
            "image/png": "[encoded data removed]",
            "text/plain": [
              "<Figure size 576x396 with 1 Axes>"
            ]
          },
          "metadata": {
            "tags": []
          }
        }
      ]
    },
    {
      "cell_type": "code",
      "metadata": {
        "id": "ep8RjWdr2gS9",
        "colab_type": "code",
        "colab": {}
      },
      "source": [
        "def plot_vectors(vect):\n",
        "  i=0\n",
        "  colors=['r','b','g','y']\n",
        "  for vec in vect:\n",
        "    plt.quiver(vec[0],vec[1],vec[2],vec[3], scale_units='xy', angles='xy', scale=1 ,color=colors[i%len(colors)])\n",
        "    i+=1\n",
        "  plt.xlim(-10,10)\n",
        "  plt.ylim(-10,10)\n",
        "  plt.show()"
      ],
      "execution_count": 0,
      "outputs": []
    },
    {
      "cell_type": "code",
      "metadata": {
        "id": "u3AaWYVI27ON",
        "colab_type": "code",
        "outputId": "0a34d306-5dde-4a93-f117-93bd62eef871",
        "colab": {
          "base_uri": "https://localhost:8080/",
          "height": 351
        }
      },
      "source": [
        "plot_vectors([(0,0,2,3),(0,0,-3,-4),(0,0,-2,3),(0,0,5,-3)])"
      ],
      "execution_count": 0,
      "outputs": [
        {
          "output_type": "display_data",
          "data": {
            "image/png": "[encoded data removed]",
            "text/plain": [
              "<Figure size 576x396 with 1 Axes>"
            ]
          },
          "metadata": {
            "tags": []
          }
        }
      ]
    },
    {
      "cell_type": "code",
      "metadata": {
        "id": "5JaFFW763ASZ",
        "colab_type": "code",
        "colab": {}
      },
      "source": [
        "vecs=[np.asarray((0,0,2,3)),np.asarray((0,0,-3,-4)),np.asarray((0,0,-2,3)),np.asarray((0,0,5,-3))]"
      ],
      "execution_count": 0,
      "outputs": []
    },
    {
      "cell_type": "code",
      "metadata": {
        "id": "PaO2nUar5uzW",
        "colab_type": "code",
        "outputId": "043241c8-a187-4efb-db18-74661614313b",
        "colab": {
          "base_uri": "https://localhost:8080/",
          "height": 351
        }
      },
      "source": [
        "plot_vectors([vecs[0], vecs[1], vecs[0]+vecs[1]])"
      ],
      "execution_count": 0,
      "outputs": [
        {
          "output_type": "display_data",
          "data": {
            "image/png": "[encoded data removed]",
            "text/plain": [
              "<Figure size 576x396 with 1 Axes>"
            ]
          },
          "metadata": {
            "tags": []
          }
        }
      ]
    },
    {
      "cell_type": "code",
      "metadata": {
        "id": "ZvDZByPY52cB",
        "colab_type": "code",
        "outputId": "a366aa9f-ac51-4017-e898-1b21741a544d",
        "colab": {
          "base_uri": "https://localhost:8080/",
          "height": 351
        }
      },
      "source": [
        "plot_vectors([vecs[2], vecs[1], vecs[2]+vecs[1]])"
      ],
      "execution_count": 0,
      "outputs": [
        {
          "output_type": "display_data",
          "data": {
            "image/png": "[encoded data removed]",
            "text/plain": [
              "<Figure size 576x396 with 1 Axes>"
            ]
          },
          "metadata": {
            "tags": []
          }
        }
      ]
    },
    {
      "cell_type": "code",
      "metadata": {
        "id": "IMYWiD0u58-u",
        "colab_type": "code",
        "outputId": "1ebef08c-f9f2-437a-f6de-fdab64c30b79",
        "colab": {
          "base_uri": "https://localhost:8080/",
          "height": 351
        }
      },
      "source": [
        "plot_vectors([vecs[2], vecs[1], vecs[2]-vecs[1]])"
      ],
      "execution_count": 0,
      "outputs": [
        {
          "output_type": "display_data",
          "data": {
            "image/png": "[encoded data removed]",
            "text/plain": [
              "<Figure size 576x396 with 1 Axes>"
            ]
          },
          "metadata": {
            "tags": []
          }
        }
      ]
    },
    {
      "cell_type": "code",
      "metadata": {
        "id": "LOTQTjr_6BKO",
        "colab_type": "code",
        "outputId": "69462adb-c076-4572-e6ce-a99052616713",
        "colab": {
          "base_uri": "https://localhost:8080/",
          "height": 34
        }
      },
      "source": [
        "np.dot(vecs[0], vecs[1])"
      ],
      "execution_count": 0,
      "outputs": [
        {
          "output_type": "execute_result",
          "data": {
            "text/plain": [
              "-18"
            ]
          },
          "metadata": {
            "tags": []
          },
          "execution_count": 64
        }
      ]
    },
    {
      "cell_type": "code",
      "metadata": {
        "id": "KKzvWi-a-dpn",
        "colab_type": "code",
        "colab": {}
      },
      "source": [
        ""
      ],
      "execution_count": 0,
      "outputs": []
    }
  ]
}